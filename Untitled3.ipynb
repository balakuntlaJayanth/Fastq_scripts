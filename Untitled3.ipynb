{
 "cells": [
  {
   "cell_type": "code",
   "execution_count": 1,
   "id": "b8404d01",
   "metadata": {},
   "outputs": [
    {
     "name": "stderr",
     "output_type": "stream",
     "text": [
      "── \u001b[1mAttaching core tidyverse packages\u001b[22m ─────────────────────────────────────────────────────────────────────────────────────────────────── tidyverse 2.0.0 ──\n",
      "\u001b[32m✔\u001b[39m \u001b[34mdplyr    \u001b[39m 1.1.4     \u001b[32m✔\u001b[39m \u001b[34mreadr    \u001b[39m 2.1.5\n",
      "\u001b[32m✔\u001b[39m \u001b[34mforcats  \u001b[39m 1.0.0     \u001b[32m✔\u001b[39m \u001b[34mstringr  \u001b[39m 1.5.1\n",
      "\u001b[32m✔\u001b[39m \u001b[34mggplot2  \u001b[39m 3.4.4     \u001b[32m✔\u001b[39m \u001b[34mtibble   \u001b[39m 3.2.1\n",
      "\u001b[32m✔\u001b[39m \u001b[34mlubridate\u001b[39m 1.9.3     \u001b[32m✔\u001b[39m \u001b[34mtidyr    \u001b[39m 1.3.0\n",
      "\u001b[32m✔\u001b[39m \u001b[34mpurrr    \u001b[39m 1.0.2     \n",
      "── \u001b[1mConflicts\u001b[22m ───────────────────────────────────────────────────────────────────────────────────────────────────────────────────── tidyverse_conflicts() ──\n",
      "\u001b[31m✖\u001b[39m \u001b[34mdplyr\u001b[39m::\u001b[32mfilter()\u001b[39m masks \u001b[34mstats\u001b[39m::filter()\n",
      "\u001b[31m✖\u001b[39m \u001b[34mdplyr\u001b[39m::\u001b[32mlag()\u001b[39m    masks \u001b[34mstats\u001b[39m::lag()\n",
      "\u001b[36mℹ\u001b[39m Use the conflicted package (\u001b[3m\u001b[34m<http://conflicted.r-lib.org/>\u001b[39m\u001b[23m) to force all conflicts to become errors\n"
     ]
    }
   ],
   "source": [
    "library('tidyverse')\n",
    "library(ggpattern)"
   ]
  },
  {
   "cell_type": "code",
   "execution_count": 2,
   "id": "6f1bf040",
   "metadata": {},
   "outputs": [],
   "source": [
    "cData <- structure(list(Individual = c(\"Indv 1\", \"Indv 2\", \"Indv 3\", \"Indv 1\", \"Indv 2\", \"Indv 3\", \"Indv 1\", \"Indv 2\", \"Indv 3\",\n",
    "                                       \"Indv 1\", \"Indv 2\", \"Indv 3\", \"Indv 1\", \"Indv 2\", \"Indv 3\", \"Indv 1\", \"Indv 2\", \"Indv 3\"),\n",
    "                        Change = c(\"Gain\", \"Gain\", \"Gain\", \"Gain\", \"Gain\", \"Gain\", \"Gain\", \"Gain\", \"Gain\",\n",
    "                                   \"Loss\", \"Loss\", \"Loss\", \"Loss\", \"Loss\", \"Loss\", \"Loss\", \"Loss\", \"Loss\"),\n",
    "                        Type = c(\"Type A\", \"Type A\", \"Type A\", \"Type B\", \"Type B\", \"Type B\", \"Type C\", \"Type C\", \"Type C\",\n",
    "                                 \"Type A\", \"Type A\", \"Type A\", \"Type B\", \"Type B\", \"Type B\", \"Type C\", \"Type C\", \"Type C\"),\n",
    "                        Value = c(39L, 5L, 12L, 28L, 21L, 7L, 21L, 9L, 116L, 28L, 108L, 30L, 0L, 3L, 25L, 13L, 4L, 26L),\n",
    "                        Stripe_Angle = c(25L, 25L, 25L, 135L, 135L, 135L, 90L, 90L, 90L, 25L, 25L, 25L, 135L, 135L,\n",
    "                                         135L, 90L, 90L, 90L)), row.names = c(NA, -18L), class = \"data.frame\")"
   ]
  },
  {
   "cell_type": "code",
   "execution_count": 3,
   "id": "fe9b575f",
   "metadata": {},
   "outputs": [
    {
     "data": {
      "text/html": [
       "<table class=\"dataframe\">\n",
       "<caption>A data.frame: 6 × 5</caption>\n",
       "<thead>\n",
       "\t<tr><th></th><th scope=col>Individual</th><th scope=col>Change</th><th scope=col>Type</th><th scope=col>Value</th><th scope=col>Stripe_Angle</th></tr>\n",
       "\t<tr><th></th><th scope=col>&lt;chr&gt;</th><th scope=col>&lt;chr&gt;</th><th scope=col>&lt;chr&gt;</th><th scope=col>&lt;int&gt;</th><th scope=col>&lt;int&gt;</th></tr>\n",
       "</thead>\n",
       "<tbody>\n",
       "\t<tr><th scope=row>1</th><td>Indv 1</td><td>Gain</td><td>Type A</td><td>39</td><td> 25</td></tr>\n",
       "\t<tr><th scope=row>2</th><td>Indv 2</td><td>Gain</td><td>Type A</td><td> 5</td><td> 25</td></tr>\n",
       "\t<tr><th scope=row>3</th><td>Indv 3</td><td>Gain</td><td>Type A</td><td>12</td><td> 25</td></tr>\n",
       "\t<tr><th scope=row>4</th><td>Indv 1</td><td>Gain</td><td>Type B</td><td>28</td><td>135</td></tr>\n",
       "\t<tr><th scope=row>5</th><td>Indv 2</td><td>Gain</td><td>Type B</td><td>21</td><td>135</td></tr>\n",
       "\t<tr><th scope=row>6</th><td>Indv 3</td><td>Gain</td><td>Type B</td><td> 7</td><td>135</td></tr>\n",
       "</tbody>\n",
       "</table>\n"
      ],
      "text/latex": [
       "A data.frame: 6 × 5\n",
       "\\begin{tabular}{r|lllll}\n",
       "  & Individual & Change & Type & Value & Stripe\\_Angle\\\\\n",
       "  & <chr> & <chr> & <chr> & <int> & <int>\\\\\n",
       "\\hline\n",
       "\t1 & Indv 1 & Gain & Type A & 39 &  25\\\\\n",
       "\t2 & Indv 2 & Gain & Type A &  5 &  25\\\\\n",
       "\t3 & Indv 3 & Gain & Type A & 12 &  25\\\\\n",
       "\t4 & Indv 1 & Gain & Type B & 28 & 135\\\\\n",
       "\t5 & Indv 2 & Gain & Type B & 21 & 135\\\\\n",
       "\t6 & Indv 3 & Gain & Type B &  7 & 135\\\\\n",
       "\\end{tabular}\n"
      ],
      "text/markdown": [
       "\n",
       "A data.frame: 6 × 5\n",
       "\n",
       "| <!--/--> | Individual &lt;chr&gt; | Change &lt;chr&gt; | Type &lt;chr&gt; | Value &lt;int&gt; | Stripe_Angle &lt;int&gt; |\n",
       "|---|---|---|---|---|---|\n",
       "| 1 | Indv 1 | Gain | Type A | 39 |  25 |\n",
       "| 2 | Indv 2 | Gain | Type A |  5 |  25 |\n",
       "| 3 | Indv 3 | Gain | Type A | 12 |  25 |\n",
       "| 4 | Indv 1 | Gain | Type B | 28 | 135 |\n",
       "| 5 | Indv 2 | Gain | Type B | 21 | 135 |\n",
       "| 6 | Indv 3 | Gain | Type B |  7 | 135 |\n",
       "\n"
      ],
      "text/plain": [
       "  Individual Change Type   Value Stripe_Angle\n",
       "1 Indv 1     Gain   Type A 39     25         \n",
       "2 Indv 2     Gain   Type A  5     25         \n",
       "3 Indv 3     Gain   Type A 12     25         \n",
       "4 Indv 1     Gain   Type B 28    135         \n",
       "5 Indv 2     Gain   Type B 21    135         \n",
       "6 Indv 3     Gain   Type B  7    135         "
      ]
     },
     "metadata": {},
     "output_type": "display_data"
    }
   ],
   "source": [
    "head(cData)"
   ]
  },
  {
   "cell_type": "code",
   "execution_count": 4,
   "id": "1f6af43c",
   "metadata": {},
   "outputs": [],
   "source": [
    "specie <- c(rep(\"sorgho\" , 3) , rep(\"poacee\" , 3) , rep(\"banana\" , 3) , rep(\"triticum\" , 3) )\n",
    "condition <- rep(c(\"normal\" , \"stress\" , \"Nitrogen\") , 4)\n",
    "p <- rep(c('none','none','stripe'))\n",
    "value <- abs(rnorm(12 , 0 , 15))\n",
    "data <- data.frame(specie,condition,value,p)"
   ]
  },
  {
   "cell_type": "code",
   "execution_count": 5,
   "id": "d9e65e17",
   "metadata": {},
   "outputs": [
    {
     "data": {
      "text/html": [
       "<table class=\"dataframe\">\n",
       "<caption>A data.frame: 6 × 4</caption>\n",
       "<thead>\n",
       "\t<tr><th></th><th scope=col>specie</th><th scope=col>condition</th><th scope=col>value</th><th scope=col>p</th></tr>\n",
       "\t<tr><th></th><th scope=col>&lt;chr&gt;</th><th scope=col>&lt;chr&gt;</th><th scope=col>&lt;dbl&gt;</th><th scope=col>&lt;chr&gt;</th></tr>\n",
       "</thead>\n",
       "<tbody>\n",
       "\t<tr><th scope=row>1</th><td>sorgho</td><td>normal  </td><td>12.539056</td><td>none  </td></tr>\n",
       "\t<tr><th scope=row>2</th><td>sorgho</td><td>stress  </td><td> 6.651177</td><td>none  </td></tr>\n",
       "\t<tr><th scope=row>3</th><td>sorgho</td><td>Nitrogen</td><td>16.870152</td><td>stripe</td></tr>\n",
       "\t<tr><th scope=row>4</th><td>poacee</td><td>normal  </td><td> 3.962236</td><td>none  </td></tr>\n",
       "\t<tr><th scope=row>5</th><td>poacee</td><td>stress  </td><td>23.824799</td><td>none  </td></tr>\n",
       "\t<tr><th scope=row>6</th><td>poacee</td><td>Nitrogen</td><td>17.569338</td><td>stripe</td></tr>\n",
       "</tbody>\n",
       "</table>\n"
      ],
      "text/latex": [
       "A data.frame: 6 × 4\n",
       "\\begin{tabular}{r|llll}\n",
       "  & specie & condition & value & p\\\\\n",
       "  & <chr> & <chr> & <dbl> & <chr>\\\\\n",
       "\\hline\n",
       "\t1 & sorgho & normal   & 12.539056 & none  \\\\\n",
       "\t2 & sorgho & stress   &  6.651177 & none  \\\\\n",
       "\t3 & sorgho & Nitrogen & 16.870152 & stripe\\\\\n",
       "\t4 & poacee & normal   &  3.962236 & none  \\\\\n",
       "\t5 & poacee & stress   & 23.824799 & none  \\\\\n",
       "\t6 & poacee & Nitrogen & 17.569338 & stripe\\\\\n",
       "\\end{tabular}\n"
      ],
      "text/markdown": [
       "\n",
       "A data.frame: 6 × 4\n",
       "\n",
       "| <!--/--> | specie &lt;chr&gt; | condition &lt;chr&gt; | value &lt;dbl&gt; | p &lt;chr&gt; |\n",
       "|---|---|---|---|---|\n",
       "| 1 | sorgho | normal   | 12.539056 | none   |\n",
       "| 2 | sorgho | stress   |  6.651177 | none   |\n",
       "| 3 | sorgho | Nitrogen | 16.870152 | stripe |\n",
       "| 4 | poacee | normal   |  3.962236 | none   |\n",
       "| 5 | poacee | stress   | 23.824799 | none   |\n",
       "| 6 | poacee | Nitrogen | 17.569338 | stripe |\n",
       "\n"
      ],
      "text/plain": [
       "  specie condition value     p     \n",
       "1 sorgho normal    12.539056 none  \n",
       "2 sorgho stress     6.651177 none  \n",
       "3 sorgho Nitrogen  16.870152 stripe\n",
       "4 poacee normal     3.962236 none  \n",
       "5 poacee stress    23.824799 none  \n",
       "6 poacee Nitrogen  17.569338 stripe"
      ]
     },
     "metadata": {},
     "output_type": "display_data"
    }
   ],
   "source": [
    "head(data)"
   ]
  },
  {
   "cell_type": "code",
   "execution_count": 6,
   "id": "367d40c2",
   "metadata": {},
   "outputs": [],
   "source": [
    "colordict<-c(\n",
    "\"Nitrogen\"=\"chartreuse4\",\n",
    "\"genotype\"=\"palegreen\",\n",
    "\"normal\"=\"purple2\",\n",
    "\"loc\"=\"cornflowerblue\",\n",
    "\"stress\"=\"orchid\")"
   ]
  },
  {
   "cell_type": "code",
   "execution_count": 7,
   "id": "a3a692ae",
   "metadata": {},
   "outputs": [],
   "source": [
    "pdict<-c(\n",
    "\"Nitrogen\"=\"stripe\",\n",
    "\"genotype\"=\"none\",\n",
    "\"normal\"=\"none\",\n",
    "\"loc\"=\"none\",\n",
    "\"stress\"=\"none\")"
   ]
  },
  {
   "cell_type": "code",
   "execution_count": 8,
   "id": "2485bb19",
   "metadata": {},
   "outputs": [],
   "source": [
    "values=colordict[unique(data$condition)]"
   ]
  },
  {
   "cell_type": "code",
   "execution_count": 9,
   "id": "89d9dc40",
   "metadata": {},
   "outputs": [
    {
     "data": {
      "text/html": [
       "<style>\n",
       ".dl-inline {width: auto; margin:0; padding: 0}\n",
       ".dl-inline>dt, .dl-inline>dd {float: none; width: auto; display: inline-block}\n",
       ".dl-inline>dt::after {content: \":\\0020\"; padding-right: .5ex}\n",
       ".dl-inline>dt:not(:first-of-type) {padding-left: .5ex}\n",
       "</style><dl class=dl-inline><dt>normal</dt><dd>'purple2'</dd><dt>stress</dt><dd>'orchid'</dd><dt>Nitrogen</dt><dd>'chartreuse4'</dd></dl>\n"
      ],
      "text/latex": [
       "\\begin{description*}\n",
       "\\item[normal] 'purple2'\n",
       "\\item[stress] 'orchid'\n",
       "\\item[Nitrogen] 'chartreuse4'\n",
       "\\end{description*}\n"
      ],
      "text/markdown": [
       "normal\n",
       ":   'purple2'stress\n",
       ":   'orchid'Nitrogen\n",
       ":   'chartreuse4'\n",
       "\n"
      ],
      "text/plain": [
       "       normal        stress      Nitrogen \n",
       "    \"purple2\"      \"orchid\" \"chartreuse4\" "
      ]
     },
     "metadata": {},
     "output_type": "display_data"
    }
   ],
   "source": [
    "values"
   ]
  },
  {
   "cell_type": "code",
   "execution_count": 10,
   "id": "c7cac09c",
   "metadata": {},
   "outputs": [
    {
     "data": {
      "image/png": "[encoded data removed]",
      "text/plain": [
       "plot without title"
      ]
     },
     "metadata": {
      "image/png": {
       "height": 420,
       "width": 420
      }
     },
     "output_type": "display_data"
    }
   ],
   "source": [
    "ggplot(data, aes(fill=condition, y=value, x=specie)) + \n",
    "  geom_bar(position=\"fill\", stat=\"identity\")"
   ]
  },
  {
   "cell_type": "code",
   "execution_count": 16,
   "id": "60bf6e2b",
   "metadata": {},
   "outputs": [
    {
     "data": {
      "image/png": "[encoded data removed]",
      "text/plain": [
       "plot without title"
      ]
     },
     "metadata": {
      "image/png": {
       "height": 420,
       "width": 420
      }
     },
     "output_type": "display_data"
    }
   ],
   "source": [
    "ggplot(data, aes(fill=condition, y=value, x=specie))  +\n",
    "  geom_bar(position=\"fill\", stat=\"identity\") + scale_fill_manual(values=colordict[unique(data$condition)])"
   ]
  },
  {
   "cell_type": "code",
   "execution_count": 15,
   "id": "8f81af88",
   "metadata": {},
   "outputs": [
    {
     "data": {
      "image/png": "[encoded data removed]",
      "text/plain": [
       "plot without title"
      ]
     },
     "metadata": {
      "image/png": {
       "height": 420,
       "width": 420
      }
     },
     "output_type": "display_data"
    }
   ],
   "source": [
    "ggplot(data, aes(fill=condition, y=value, x=specie))  +\n",
    "  geom_bar(position=\"fill\", stat=\"identity\") + scale_fill_manual(values=colordict[unique(data$condition)]) + geom_col_pattern(aes(pattern_angle=p, ))"
   ]
  },
  {
   "cell_type": "code",
   "execution_count": 12,
   "id": "cc675d5c",
   "metadata": {},
   "outputs": [
    {
     "data": {
      "text/html": [
       "<style>\n",
       ".list-inline {list-style: none; margin:0; padding: 0}\n",
       ".list-inline>li {display: inline-block}\n",
       ".list-inline>li:not(:last-child)::after {content: \"\\00b7\"; padding: 0 .5ex}\n",
       "</style>\n",
       "<ol class=list-inline><li>'none'</li><li>'none'</li><li>'stripe'</li><li>'none'</li><li>'none'</li><li>'stripe'</li><li>'none'</li><li>'none'</li><li>'stripe'</li><li>'none'</li><li>'none'</li><li>'stripe'</li></ol>\n"
      ],
      "text/latex": [
       "\\begin{enumerate*}\n",
       "\\item 'none'\n",
       "\\item 'none'\n",
       "\\item 'stripe'\n",
       "\\item 'none'\n",
       "\\item 'none'\n",
       "\\item 'stripe'\n",
       "\\item 'none'\n",
       "\\item 'none'\n",
       "\\item 'stripe'\n",
       "\\item 'none'\n",
       "\\item 'none'\n",
       "\\item 'stripe'\n",
       "\\end{enumerate*}\n"
      ],
      "text/markdown": [
       "1. 'none'\n",
       "2. 'none'\n",
       "3. 'stripe'\n",
       "4. 'none'\n",
       "5. 'none'\n",
       "6. 'stripe'\n",
       "7. 'none'\n",
       "8. 'none'\n",
       "9. 'stripe'\n",
       "10. 'none'\n",
       "11. 'none'\n",
       "12. 'stripe'\n",
       "\n",
       "\n"
      ],
      "text/plain": [
       " [1] \"none\"   \"none\"   \"stripe\" \"none\"   \"none\"   \"stripe\" \"none\"   \"none\"  \n",
       " [9] \"stripe\" \"none\"   \"none\"   \"stripe\""
      ]
     },
     "metadata": {},
     "output_type": "display_data"
    }
   ],
   "source": [
    "data$p"
   ]
  },
  {
   "cell_type": "code",
   "execution_count": 18,
   "id": "cd4fdad0",
   "metadata": {},
   "outputs": [
    {
     "name": "stderr",
     "output_type": "stream",
     "text": [
      "\n",
      "Attaching package: 'scales'\n",
      "\n",
      "\n",
      "The following object is masked from 'package:purrr':\n",
      "\n",
      "    discard\n",
      "\n",
      "\n",
      "The following object is masked from 'package:readr':\n",
      "\n",
      "    col_factor\n",
      "\n",
      "\n"
     ]
    }
   ],
   "source": [
    "library(dplyr)\n",
    "library(ggplot2)\n",
    "#library(ggraph)\n",
    "library(scales)\n",
    "library(ggpattern)\n",
    "\n",
    "df <- structure(list(Category_A = c(\"Class_A\", \"Class_A\", \"Class_A\", \n",
    "\"Class_A\", \"Class_A\", \"Class_A\", \"Class_C\", \"Class_C\", \"Class_C\", \n",
    "\"Class_C\", \"Class_C\", \"Class_C\", \"Class_B\", \"Class_B\", \"Class_B\", \n",
    "\"Class_B\", \"Class_B\", \"Class_B\"), Category_B = c(\"Class_A\", \"Class_A\", \n",
    "\"Class_C\", \"Class_C\", \"Class_B\", \"Class_B\", \"Class_A\", \"Class_A\", \n",
    "\"Class_C\", \"Class_C\", \"Class_B\", \"Class_B\", \"Class_A\", \"Class_A\", \n",
    "\"Class_C\", \"Class_C\", \"Class_B\", \"Class_B\"), Score = c(\"Fail\", \n",
    "\"Pass\", \"Fail\", \"Pass\", \"Fail\", \"Pass\", \"Fail\", \"Pass\", \"Fail\", \n",
    "\"Pass\", \"Fail\", \"Pass\", \"Fail\", \"Pass\", \"Fail\", \"Pass\", \"Fail\", \n",
    "\"Pass\"), count = c(19837.25, 156448.75, 134.5, 1105.75, 33738, \n",
    "162531, 322.75, 2134.5, 190.25, 2119.25, 1514, 8450.25, 139259, \n",
    "549000.5, 1419.75, 7180, 37118.25, 231676)), row.names = c(NA, \n",
    "-18L), groups = structure(list(Category_A = c(\"Class_A\", \"Class_A\", \n",
    "\"Class_A\", \"Class_B\", \"Class_B\", \"Class_B\", \"Class_C\", \"Class_C\", \n",
    "\"Class_C\"), Category_B = c(\"Class_A\", \"Class_B\", \"Class_C\", \"Class_A\", \n",
    "\"Class_B\", \"Class_C\", \"Class_A\", \"Class_B\", \"Class_C\"), .rows = structure(list(\n",
    "    1:2, 5:6, 3:4, 13:14, 17:18, 15:16, 7:8, 11:12, 9:10), ptype = integer(0), class = c(\"vctrs_list_of\", \n",
    "\"vctrs_vctr\", \"list\"))), class = c(\"tbl_df\", \"tbl\", \"data.frame\"\n",
    "), row.names = c(NA, -9L), .drop = TRUE), class = c(\"grouped_df\", \n",
    "\"tbl_df\", \"tbl\", \"data.frame\"))"
   ]
  },
  {
   "cell_type": "code",
   "execution_count": 19,
   "id": "79324b83",
   "metadata": {},
   "outputs": [
    {
     "data": {
      "text/html": [
       "<table class=\"dataframe\">\n",
       "<caption>A grouped_df: 6 × 4</caption>\n",
       "<thead>\n",
       "\t<tr><th scope=col>Category_A</th><th scope=col>Category_B</th><th scope=col>Score</th><th scope=col>count</th></tr>\n",
       "\t<tr><th scope=col>&lt;chr&gt;</th><th scope=col>&lt;chr&gt;</th><th scope=col>&lt;chr&gt;</th><th scope=col>&lt;dbl&gt;</th></tr>\n",
       "</thead>\n",
       "<tbody>\n",
       "\t<tr><td>Class_A</td><td>Class_A</td><td>Fail</td><td> 19837.25</td></tr>\n",
       "\t<tr><td>Class_A</td><td>Class_A</td><td>Pass</td><td>156448.75</td></tr>\n",
       "\t<tr><td>Class_A</td><td>Class_C</td><td>Fail</td><td>   134.50</td></tr>\n",
       "\t<tr><td>Class_A</td><td>Class_C</td><td>Pass</td><td>  1105.75</td></tr>\n",
       "\t<tr><td>Class_A</td><td>Class_B</td><td>Fail</td><td> 33738.00</td></tr>\n",
       "\t<tr><td>Class_A</td><td>Class_B</td><td>Pass</td><td>162531.00</td></tr>\n",
       "</tbody>\n",
       "</table>\n"
      ],
      "text/latex": [
       "A grouped\\_df: 6 × 4\n",
       "\\begin{tabular}{llll}\n",
       " Category\\_A & Category\\_B & Score & count\\\\\n",
       " <chr> & <chr> & <chr> & <dbl>\\\\\n",
       "\\hline\n",
       "\t Class\\_A & Class\\_A & Fail &  19837.25\\\\\n",
       "\t Class\\_A & Class\\_A & Pass & 156448.75\\\\\n",
       "\t Class\\_A & Class\\_C & Fail &    134.50\\\\\n",
       "\t Class\\_A & Class\\_C & Pass &   1105.75\\\\\n",
       "\t Class\\_A & Class\\_B & Fail &  33738.00\\\\\n",
       "\t Class\\_A & Class\\_B & Pass & 162531.00\\\\\n",
       "\\end{tabular}\n"
      ],
      "text/markdown": [
       "\n",
       "A grouped_df: 6 × 4\n",
       "\n",
       "| Category_A &lt;chr&gt; | Category_B &lt;chr&gt; | Score &lt;chr&gt; | count &lt;dbl&gt; |\n",
       "|---|---|---|---|\n",
       "| Class_A | Class_A | Fail |  19837.25 |\n",
       "| Class_A | Class_A | Pass | 156448.75 |\n",
       "| Class_A | Class_C | Fail |    134.50 |\n",
       "| Class_A | Class_C | Pass |   1105.75 |\n",
       "| Class_A | Class_B | Fail |  33738.00 |\n",
       "| Class_A | Class_B | Pass | 162531.00 |\n",
       "\n"
      ],
      "text/plain": [
       "  Category_A Category_B Score count    \n",
       "1 Class_A    Class_A    Fail   19837.25\n",
       "2 Class_A    Class_A    Pass  156448.75\n",
       "3 Class_A    Class_C    Fail     134.50\n",
       "4 Class_A    Class_C    Pass    1105.75\n",
       "5 Class_A    Class_B    Fail   33738.00\n",
       "6 Class_A    Class_B    Pass  162531.00"
      ]
     },
     "metadata": {},
     "output_type": "display_data"
    }
   ],
   "source": [
    "head(df)"
   ]
  },
  {
   "cell_type": "code",
   "execution_count": 21,
   "id": "081c4dac",
   "metadata": {},
   "outputs": [
    {
     "data": {
      "text/html": [
       "<table class=\"dataframe\">\n",
       "<caption>A data.frame: 6 × 4</caption>\n",
       "<thead>\n",
       "\t<tr><th></th><th scope=col>specie</th><th scope=col>condition</th><th scope=col>value</th><th scope=col>p</th></tr>\n",
       "\t<tr><th></th><th scope=col>&lt;chr&gt;</th><th scope=col>&lt;chr&gt;</th><th scope=col>&lt;dbl&gt;</th><th scope=col>&lt;chr&gt;</th></tr>\n",
       "</thead>\n",
       "<tbody>\n",
       "\t<tr><th scope=row>1</th><td>sorgho</td><td>normal  </td><td>12.539056</td><td>none  </td></tr>\n",
       "\t<tr><th scope=row>2</th><td>sorgho</td><td>stress  </td><td> 6.651177</td><td>none  </td></tr>\n",
       "\t<tr><th scope=row>3</th><td>sorgho</td><td>Nitrogen</td><td>16.870152</td><td>stripe</td></tr>\n",
       "\t<tr><th scope=row>4</th><td>poacee</td><td>normal  </td><td> 3.962236</td><td>none  </td></tr>\n",
       "\t<tr><th scope=row>5</th><td>poacee</td><td>stress  </td><td>23.824799</td><td>none  </td></tr>\n",
       "\t<tr><th scope=row>6</th><td>poacee</td><td>Nitrogen</td><td>17.569338</td><td>stripe</td></tr>\n",
       "</tbody>\n",
       "</table>\n"
      ],
      "text/latex": [
       "A data.frame: 6 × 4\n",
       "\\begin{tabular}{r|llll}\n",
       "  & specie & condition & value & p\\\\\n",
       "  & <chr> & <chr> & <dbl> & <chr>\\\\\n",
       "\\hline\n",
       "\t1 & sorgho & normal   & 12.539056 & none  \\\\\n",
       "\t2 & sorgho & stress   &  6.651177 & none  \\\\\n",
       "\t3 & sorgho & Nitrogen & 16.870152 & stripe\\\\\n",
       "\t4 & poacee & normal   &  3.962236 & none  \\\\\n",
       "\t5 & poacee & stress   & 23.824799 & none  \\\\\n",
       "\t6 & poacee & Nitrogen & 17.569338 & stripe\\\\\n",
       "\\end{tabular}\n"
      ],
      "text/markdown": [
       "\n",
       "A data.frame: 6 × 4\n",
       "\n",
       "| <!--/--> | specie &lt;chr&gt; | condition &lt;chr&gt; | value &lt;dbl&gt; | p &lt;chr&gt; |\n",
       "|---|---|---|---|---|\n",
       "| 1 | sorgho | normal   | 12.539056 | none   |\n",
       "| 2 | sorgho | stress   |  6.651177 | none   |\n",
       "| 3 | sorgho | Nitrogen | 16.870152 | stripe |\n",
       "| 4 | poacee | normal   |  3.962236 | none   |\n",
       "| 5 | poacee | stress   | 23.824799 | none   |\n",
       "| 6 | poacee | Nitrogen | 17.569338 | stripe |\n",
       "\n"
      ],
      "text/plain": [
       "  specie condition value     p     \n",
       "1 sorgho normal    12.539056 none  \n",
       "2 sorgho stress     6.651177 none  \n",
       "3 sorgho Nitrogen  16.870152 stripe\n",
       "4 poacee normal     3.962236 none  \n",
       "5 poacee stress    23.824799 none  \n",
       "6 poacee Nitrogen  17.569338 stripe"
      ]
     },
     "metadata": {},
     "output_type": "display_data"
    }
   ],
   "source": [
    "head(data)"
   ]
  },
  {
   "cell_type": "code",
   "execution_count": 37,
   "id": "12a548ff",
   "metadata": {},
   "outputs": [
    {
     "data": {
      "image/png": "[encoded data removed]",
      "text/plain": [
       "plot without title"
      ]
     },
     "metadata": {
      "image/png": {
       "height": 420,
       "width": 420
      }
     },
     "output_type": "display_data"
    }
   ],
   "source": [
    "ggplot(data, aes(fill=condition, y=value, x=specie)) + geom_bar(position=\"fill\", stat=\"identity\") +\n",
    "  geom_col_pattern(\n",
    "    pattern_spacing = 0.02,  # had to fiddle to look right\n",
    "    pattern_frequency = 5,\n",
    "    pattern_fill=NA,   # removes gray parts you see between pattern lines\n",
    "    pattern_angle = 45,\n",
    "    color='white', linewidth=1   # white lines between stacked bars\n",
    "  )  + scale_pattern_type_manual(values = c('hexagonal', 'rhombille',\n",
    "                                  'pythagorean')) +\n",
    "  theme_bw() + scale_fill_manual(values=colordict[unique(data$condition)]) "
   ]
  },
  {
   "cell_type": "code",
   "execution_count": 28,
   "id": "1e3f487e",
   "metadata": {},
   "outputs": [],
   "source": [
    "values=c(\"cyan3\",\"darkgoldenrod1\",\"brown2\")"
   ]
  },
  {
   "cell_type": "code",
   "execution_count": 29,
   "id": "a21ec14b",
   "metadata": {},
   "outputs": [
    {
     "data": {
      "text/html": [
       "<style>\n",
       ".list-inline {list-style: none; margin:0; padding: 0}\n",
       ".list-inline>li {display: inline-block}\n",
       ".list-inline>li:not(:last-child)::after {content: \"\\00b7\"; padding: 0 .5ex}\n",
       "</style>\n",
       "<ol class=list-inline><li>'cyan3'</li><li>'darkgoldenrod1'</li><li>'brown2'</li></ol>\n"
      ],
      "text/latex": [
       "\\begin{enumerate*}\n",
       "\\item 'cyan3'\n",
       "\\item 'darkgoldenrod1'\n",
       "\\item 'brown2'\n",
       "\\end{enumerate*}\n"
      ],
      "text/markdown": [
       "1. 'cyan3'\n",
       "2. 'darkgoldenrod1'\n",
       "3. 'brown2'\n",
       "\n",
       "\n"
      ],
      "text/plain": [
       "[1] \"cyan3\"          \"darkgoldenrod1\" \"brown2\"        "
      ]
     },
     "metadata": {},
     "output_type": "display_data"
    }
   ],
   "source": [
    "values"
   ]
  },
  {
   "cell_type": "code",
   "execution_count": 30,
   "id": "d74b0b5a",
   "metadata": {},
   "outputs": [
    {
     "data": {
      "text/html": [
       "<style>\n",
       ".dl-inline {width: auto; margin:0; padding: 0}\n",
       ".dl-inline>dt, .dl-inline>dd {float: none; width: auto; display: inline-block}\n",
       ".dl-inline>dt::after {content: \":\\0020\"; padding-right: .5ex}\n",
       ".dl-inline>dt:not(:first-of-type) {padding-left: .5ex}\n",
       "</style><dl class=dl-inline><dt>normal</dt><dd>'purple2'</dd><dt>stress</dt><dd>'orchid'</dd><dt>Nitrogen</dt><dd>'chartreuse4'</dd></dl>\n"
      ],
      "text/latex": [
       "\\begin{description*}\n",
       "\\item[normal] 'purple2'\n",
       "\\item[stress] 'orchid'\n",
       "\\item[Nitrogen] 'chartreuse4'\n",
       "\\end{description*}\n"
      ],
      "text/markdown": [
       "normal\n",
       ":   'purple2'stress\n",
       ":   'orchid'Nitrogen\n",
       ":   'chartreuse4'\n",
       "\n"
      ],
      "text/plain": [
       "       normal        stress      Nitrogen \n",
       "    \"purple2\"      \"orchid\" \"chartreuse4\" "
      ]
     },
     "metadata": {},
     "output_type": "display_data"
    }
   ],
   "source": [
    "colordict[unique(data$condition)]"
   ]
  },
  {
   "cell_type": "code",
   "execution_count": 35,
   "id": "3ac02629",
   "metadata": {},
   "outputs": [
    {
     "data": {
      "image/png": "[encoded data removed]",
      "text/plain": [
       "plot without title"
      ]
     },
     "metadata": {
      "image/png": {
       "height": 420,
       "width": 420
      }
     },
     "output_type": "display_data"
    }
   ],
   "source": [
    "ggplot(df, aes(fill=Category_B, y=count, x=Category_B, pattern=Score)) + \n",
    "  geom_col_pattern(\n",
    "    position=\"stack\",\n",
    "    pattern_spacing = 0.02,  # had to fiddle to look right\n",
    "    pattern_frequency = 5,\n",
    "    pattern_fill=NA,   # removes gray parts you see between pattern lines\n",
    "    pattern_angle = 45,\n",
    "    color='white', linewidth=1   # white lines between stacked bars\n",
    "  ) +\n",
    "  theme_bw()+\n",
    "  \n",
    "  # add facets and push facet labels to the bottom\n",
    "  facet_grid(.~Category_A, switch = \"x\") +\n",
    "  \n",
    "  labs(y = \"Count\", x=\"\")+\n",
    "  scale_y_log10(breaks = trans_breaks(\"log10\", function(x) 10^x),\n",
    "                labels = trans_format(\"log10\", math_format(10^.x)),\n",
    "                expand = expansion(mult=c(0, 0.05))  # removes space at bottom\n",
    "  ) +\n",
    "  \n",
    "  # adds some space on the x axis between Category_B values\n",
    "  scale_x_discrete(expand=expansion(mult=0.6)) +  # adds space between Category_B\n",
    "  \n",
    "  scale_fill_manual(values=c(\"cyan3\",\"darkgoldenrod1\",\"brown2\"))  +\n",
    "   scale_pattern_manual(values=c('stripe', 'none')) +\n",
    "  # format changes noted\n",
    "  theme(\n",
    "    legend.key.width = unit(1, \"cm\"), legend.title = element_blank(),\n",
    "    legend.background = element_rect(color = \"transparent\"), legend.position = \"right\",\n",
    "    legend.direction = \"vertical\", legend.spacing.y = unit(0.4, 'cm'),\n",
    "    panel.grid.major = element_blank(), panel.grid.minor = element_blank(),\n",
    "    panel.border = element_rect(color=NA),  # remove the border around facets\n",
    "    panel.spacing = unit(0, 'pt'),  # smoosh facets together\n",
    "    strip.background = element_rect(color=NA, fill=NA),  # facet label format\n",
    "    strip.placement = \"outside\", # get those facet labels outside the axis!\n",
    "    axis.line = element_line(),  # add back in the axis lines\n",
    "    axis.text.x = element_blank(),  # removes x axis labels\n",
    "    axis.ticks.x = element_blank(), # removes x axis ticks\n",
    "    text = element_text(size=16)\n",
    "  )"
   ]
  },
  {
   "cell_type": "code",
   "execution_count": null,
   "id": "584a13ed",
   "metadata": {},
   "outputs": [],
   "source": []
  }
 ],
 "metadata": {
  "kernelspec": {
   "display_name": "R",
   "language": "R",
   "name": "ir"
  },
  "language_info": {
   "codemirror_mode": "r",
   "file_extension": ".r",
   "mimetype": "text/x-r-source",
   "name": "R",
   "pygments_lexer": "r",
   "version": "4.3.2"
  }
 },
 "nbformat": 4,
 "nbformat_minor": 5
}
